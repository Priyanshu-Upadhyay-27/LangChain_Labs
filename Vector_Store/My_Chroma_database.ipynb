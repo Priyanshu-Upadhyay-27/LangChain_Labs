{
 "cells": [
  {
   "cell_type": "code",
   "id": "initial_id",
   "metadata": {
    "collapsed": true,
    "ExecuteTime": {
     "end_time": "2025-08-27T19:27:34.787802Z",
     "start_time": "2025-08-27T19:27:34.130968Z"
    }
   },
   "source": [
    "from langchain_google_genai import GoogleGenerativeAIEmbeddings\n",
    "from langchain_chroma import Chroma\n",
    "from dotenv import load_dotenv\n",
    "load_dotenv()"
   ],
   "outputs": [
    {
     "data": {
      "text/plain": [
       "True"
      ]
     },
     "execution_count": 7,
     "metadata": {},
     "output_type": "execute_result"
    }
   ],
   "execution_count": 7
  },
  {
   "metadata": {
    "ExecuteTime": {
     "end_time": "2025-08-27T19:37:48.349620Z",
     "start_time": "2025-08-27T19:37:48.336144Z"
    }
   },
   "cell_type": "code",
   "source": [
    "from langchain.schema import Document\n",
    "\n",
    "doc1 = Document(\n",
    "        page_content=\"Virat Kohli is one of the most successful and consistent batsmen in IPL history. Known for his aggressive batting style and fitness, he has led the Royal Challengers Bangalore in multiple seasons.\",\n",
    "        metadata={\"team\": \"Royal Challengers Bangalore\"}\n",
    "    )\n",
    "doc2 = Document(\n",
    "        page_content=\"Rohit Sharma is the most successful captain in IPL history, leading Mumbai Indians to five titles. He's known for his calm demeanor and ability to play big innings under pressure.\",\n",
    "        metadata={\"team\": \"Mumbai Indians\"}\n",
    "    )\n",
    "doc3 = Document(\n",
    "        page_content=\"MS Dhoni, famously known as Captain Cool, has lead Chennai Super Kings to multiple IPL titles. His finishing skills, wicketkeeping, and leadership are legendary.\",\n",
    "        metadata={\"team\": \"Chennai Super Kings\"}\n",
    "    )\n",
    "doc4 = Document(\n",
    "        page_content=\"Jasprit Bumrah is considered one of the best fast bowlers in T20 cricket. Playing for Mumbai Indians, he is known for his yorkers and death-over expertise.\",\n",
    "        metadata={\"team\": \"Mumbai Indians\"}\n",
    "    )\n",
    "doc5 = Document(\n",
    "        page_content=\"Ravindra Jadeja is a dynamic all-rounder who contributes with both bat and ball. Representing Chennai Super Kings, his quick fielding and match-winning performances make him a key player.\",\n",
    "        metadata={\"team\": \"Chennai Super Kings\"}\n",
    "    )"
   ],
   "id": "2507ba0740e55696",
   "outputs": [],
   "execution_count": 21
  },
  {
   "metadata": {
    "ExecuteTime": {
     "end_time": "2025-08-27T19:37:48.918334Z",
     "start_time": "2025-08-27T19:37:48.890602Z"
    }
   },
   "cell_type": "code",
   "source": "docs = [doc1, doc2, doc3, doc4, doc5]",
   "id": "f72e54d9bd7d4c7a",
   "outputs": [],
   "execution_count": 22
  },
  {
   "metadata": {
    "ExecuteTime": {
     "end_time": "2025-08-27T19:37:49.224697Z",
     "start_time": "2025-08-27T19:37:49.160946Z"
    }
   },
   "cell_type": "code",
   "source": [
    "vector_store = Chroma(\n",
    "    embedding_function=GoogleGenerativeAIEmbeddings(model = \"models/text-embedding-004\"),\n",
    "    persist_directory='my_chroma_db',\n",
    "    collection_name='sample'\n",
    ")"
   ],
   "id": "4302bff1be75ba7a",
   "outputs": [],
   "execution_count": 23
  },
  {
   "metadata": {
    "ExecuteTime": {
     "end_time": "2025-08-27T19:37:51.417339Z",
     "start_time": "2025-08-27T19:37:49.444721Z"
    }
   },
   "cell_type": "code",
   "source": "vector_store.add_documents(docs)",
   "id": "47ec3cdf8c36a0a9",
   "outputs": [
    {
     "data": {
      "text/plain": [
       "['55605e66-4ee3-46f6-8ae2-9b8aacad730f',\n",
       " '409abb40-7f49-4264-a430-10a2f0cb6f93',\n",
       " '3a37fb7d-9bbc-410c-a7a3-acbcae811652',\n",
       " 'd79dd698-5bf4-4eb8-a547-42e464934603',\n",
       " '6fbe5156-c879-4245-aa29-d75154095e99']"
      ]
     },
     "execution_count": 24,
     "metadata": {},
     "output_type": "execute_result"
    }
   ],
   "execution_count": 24
  },
  {
   "metadata": {
    "ExecuteTime": {
     "end_time": "2025-08-27T19:37:51.449280Z",
     "start_time": "2025-08-27T19:37:51.421373Z"
    }
   },
   "cell_type": "code",
   "source": "vector_store.get(include = [\"embeddings\", \"documents\", \"metadatas\"])",
   "id": "5d8f57e4eae57c23",
   "outputs": [
    {
     "data": {
      "text/plain": [
       "{'ids': ['cf8fbc09-ca69-4457-ba87-4c368878824f',\n",
       "  'd1d893b1-ac68-4e1c-91ca-e46423a8bd7e',\n",
       "  '79b5a4b7-b9d4-4b54-bb34-bb903fce6743',\n",
       "  '9cdb8484-ebea-4b5c-931d-ef79624a2319',\n",
       "  '8a4d2f8c-db83-43fb-8c42-000545acb325',\n",
       "  '55605e66-4ee3-46f6-8ae2-9b8aacad730f',\n",
       "  '409abb40-7f49-4264-a430-10a2f0cb6f93',\n",
       "  '3a37fb7d-9bbc-410c-a7a3-acbcae811652',\n",
       "  'd79dd698-5bf4-4eb8-a547-42e464934603',\n",
       "  '6fbe5156-c879-4245-aa29-d75154095e99'],\n",
       " 'embeddings': array([[-0.05562957, -0.0203272 , -0.01269856, ...,  0.00051751,\n",
       "         -0.02111294, -0.01154474],\n",
       "        [-0.00921848, -0.02626629, -0.03133413, ...,  0.00726502,\n",
       "         -0.04161012, -0.00883735],\n",
       "        [-0.03262324,  0.01831091, -0.0045399 , ...,  0.00915938,\n",
       "         -0.02804055, -0.03489326],\n",
       "        ...,\n",
       "        [-0.03373932,  0.01749035, -0.00502294, ...,  0.00883841,\n",
       "         -0.02820449, -0.03299017],\n",
       "        [-0.0146971 , -0.01844227, -0.02503126, ...,  0.01035003,\n",
       "         -0.01682558, -0.01603061],\n",
       "        [-0.03304848, -0.03280932, -0.02324565, ..., -0.00354889,\n",
       "         -0.00507506, -0.00217535]], shape=(10, 768)),\n",
       " 'documents': ['Virat Kohli is one of the most successful and consistent batsmen in IPL history. Known for his aggressive batting style and fitness, he has led the Royal Challengers Bangalore in multiple seasons.',\n",
       "  \"Rohit Sharma is the most successful captain in IPL history, leading Mumbai Indians to five titles. He's known for his calm demeanor and ability to play big innings under pressure.\",\n",
       "  'MS Dhoni, famously known as Captain Cool, has led Chennai Super Kings to multiple IPL titles. His finishing skills, wicketkeeping, and leadership are legendary.',\n",
       "  'Jasprit Bumrah is considered one of the best fast bowlers in T20 cricket. Playing for Mumbai Indians, he is known for his yorkers and death-over expertise.',\n",
       "  'Ravindra Jadeja is a dynamic all-rounder who contributes with both bat and ball. Representing Chennai Super Kings, his quick fielding and match-winning performances make him a key player.',\n",
       "  'Virat Kohli is one of the most successful and consistent batsmen in IPL history. Known for his aggressive batting style and fitness, he has led the Royal Challengers Bangalore in multiple seasons.',\n",
       "  \"Rohit Sharma is the most successful captain in IPL history, leading Mumbai Indians to five titles. He's known for his calm demeanor and ability to play big innings under pressure.\",\n",
       "  'MS Dhoni, famously known as Captain Cool, has lead Chennai Super Kings to multiple IPL titles. His finishing skills, wicketkeeping, and leadership are legendary.',\n",
       "  'Jasprit Bumrah is considered one of the best fast bowlers in T20 cricket. Playing for Mumbai Indians, he is known for his yorkers and death-over expertise.',\n",
       "  'Ravindra Jadeja is a dynamic all-rounder who contributes with both bat and ball. Representing Chennai Super Kings, his quick fielding and match-winning performances make him a key player.'],\n",
       " 'uris': None,\n",
       " 'included': ['embeddings', 'documents', 'metadatas'],\n",
       " 'data': None,\n",
       " 'metadatas': [{'team': 'Royal Challengers Bangalore'},\n",
       "  {'team': 'Mumbai Indians'},\n",
       "  {'team': 'Chennai Super Kings'},\n",
       "  {'team': 'Mumbai Indians'},\n",
       "  {'team': 'Chennai Super Kings'},\n",
       "  {'team': 'Royal Challengers Bangalore'},\n",
       "  {'team': 'Mumbai Indians'},\n",
       "  {'team': 'Chennai Super Kings'},\n",
       "  {'team': 'Mumbai Indians'},\n",
       "  {'team': 'Chennai Super Kings'}]}"
      ]
     },
     "execution_count": 25,
     "metadata": {},
     "output_type": "execute_result"
    }
   ],
   "execution_count": 25
  },
  {
   "metadata": {
    "ExecuteTime": {
     "end_time": "2025-08-27T19:38:44.647580Z",
     "start_time": "2025-08-27T19:38:44.137416Z"
    }
   },
   "cell_type": "code",
   "source": [
    "vector_store.similarity_search(\n",
    "    query = \"Who among them, is the best leader?\",\n",
    "    k = 3\n",
    ")"
   ],
   "id": "af9dd7303deb6d49",
   "outputs": [
    {
     "data": {
      "text/plain": [
       "[Document(id='d1d893b1-ac68-4e1c-91ca-e46423a8bd7e', metadata={'team': 'Mumbai Indians'}, page_content=\"Rohit Sharma is the most successful captain in IPL history, leading Mumbai Indians to five titles. He's known for his calm demeanor and ability to play big innings under pressure.\"),\n",
       " Document(id='409abb40-7f49-4264-a430-10a2f0cb6f93', metadata={'team': 'Mumbai Indians'}, page_content=\"Rohit Sharma is the most successful captain in IPL history, leading Mumbai Indians to five titles. He's known for his calm demeanor and ability to play big innings under pressure.\"),\n",
       " Document(id='79b5a4b7-b9d4-4b54-bb34-bb903fce6743', metadata={'team': 'Chennai Super Kings'}, page_content='MS Dhoni, famously known as Captain Cool, has led Chennai Super Kings to multiple IPL titles. His finishing skills, wicketkeeping, and leadership are legendary.')]"
      ]
     },
     "execution_count": 28,
     "metadata": {},
     "output_type": "execute_result"
    }
   ],
   "execution_count": 28
  },
  {
   "metadata": {
    "ExecuteTime": {
     "end_time": "2025-08-27T19:39:09.045444Z",
     "start_time": "2025-08-27T19:39:08.556400Z"
    }
   },
   "cell_type": "code",
   "source": [
    "vector_store.similarity_search_with_score(\n",
    "    query = \"Who among them, is the best leader?\",\n",
    "    k = 3\n",
    ")"
   ],
   "id": "b2d98eed19fa665c",
   "outputs": [
    {
     "data": {
      "text/plain": [
       "[(Document(id='d1d893b1-ac68-4e1c-91ca-e46423a8bd7e', metadata={'team': 'Mumbai Indians'}, page_content=\"Rohit Sharma is the most successful captain in IPL history, leading Mumbai Indians to five titles. He's known for his calm demeanor and ability to play big innings under pressure.\"),\n",
       "  0.9318715333938599),\n",
       " (Document(id='409abb40-7f49-4264-a430-10a2f0cb6f93', metadata={'team': 'Mumbai Indians'}, page_content=\"Rohit Sharma is the most successful captain in IPL history, leading Mumbai Indians to five titles. He's known for his calm demeanor and ability to play big innings under pressure.\"),\n",
       "  0.9318715333938599),\n",
       " (Document(id='79b5a4b7-b9d4-4b54-bb34-bb903fce6743', metadata={'team': 'Chennai Super Kings'}, page_content='MS Dhoni, famously known as Captain Cool, has led Chennai Super Kings to multiple IPL titles. His finishing skills, wicketkeeping, and leadership are legendary.'),\n",
       "  0.9703768491744995)]"
      ]
     },
     "execution_count": 29,
     "metadata": {},
     "output_type": "execute_result"
    }
   ],
   "execution_count": 29
  },
  {
   "metadata": {
    "ExecuteTime": {
     "end_time": "2025-08-27T19:40:26.144341Z",
     "start_time": "2025-08-27T19:40:25.640043Z"
    }
   },
   "cell_type": "code",
   "source": [
    "vector_store.similarity_search_with_score(\n",
    "    query = \"\",\n",
    "    filter = {\"team\" : \"Chennai Super Kings\"}\n",
    ")"
   ],
   "id": "e5b4f3ad548e8e29",
   "outputs": [
    {
     "data": {
      "text/plain": [
       "[(Document(id='79b5a4b7-b9d4-4b54-bb34-bb903fce6743', metadata={'team': 'Chennai Super Kings'}, page_content='MS Dhoni, famously known as Captain Cool, has led Chennai Super Kings to multiple IPL titles. His finishing skills, wicketkeeping, and leadership are legendary.'),\n",
       "  1.1392717361450195),\n",
       " (Document(id='3a37fb7d-9bbc-410c-a7a3-acbcae811652', metadata={'team': 'Chennai Super Kings'}, page_content='MS Dhoni, famously known as Captain Cool, has lead Chennai Super Kings to multiple IPL titles. His finishing skills, wicketkeeping, and leadership are legendary.'),\n",
       "  1.1400331258773804),\n",
       " (Document(id='8a4d2f8c-db83-43fb-8c42-000545acb325', metadata={'team': 'Chennai Super Kings'}, page_content='Ravindra Jadeja is a dynamic all-rounder who contributes with both bat and ball. Representing Chennai Super Kings, his quick fielding and match-winning performances make him a key player.'),\n",
       "  1.1505862474441528),\n",
       " (Document(id='6fbe5156-c879-4245-aa29-d75154095e99', metadata={'team': 'Chennai Super Kings'}, page_content='Ravindra Jadeja is a dynamic all-rounder who contributes with both bat and ball. Representing Chennai Super Kings, his quick fielding and match-winning performances make him a key player.'),\n",
       "  1.1505862474441528)]"
      ]
     },
     "execution_count": 30,
     "metadata": {},
     "output_type": "execute_result"
    }
   ],
   "execution_count": 30
  },
  {
   "metadata": {
    "ExecuteTime": {
     "end_time": "2025-08-27T19:42:38.802167Z",
     "start_time": "2025-08-27T19:42:38.268290Z"
    }
   },
   "cell_type": "code",
   "source": [
    "updated_doc1 = Document(\n",
    "    page_content=\"Virat Kohli, the former captain of Royal Challengers Bangalore (RCB), is renowned for his aggressive leadership and consistent batting performances. He holds the record for the most runs in IPL history, including multiple centuries in a single season. Despite RCB not winning an IPL title under his captaincy, Kohli's passion and fitness set a benchmark for the league. His ability to chase targets and anchor innings has made him one of the most dependable players in T20 cricket.\",\n",
    "    metadata={\"team\": \"Royal Challengers Bangalore\"}\n",
    ")\n",
    "\n",
    "vector_store.update_document(document_id='55605e66-4ee3-46f6-8ae2-9b8aacad730f', document=updated_doc1)"
   ],
   "id": "59c3d1db8c48437",
   "outputs": [],
   "execution_count": 31
  },
  {
   "metadata": {
    "ExecuteTime": {
     "end_time": "2025-08-27T19:43:42.639101Z",
     "start_time": "2025-08-27T19:43:42.623039Z"
    }
   },
   "cell_type": "code",
   "source": "vector_store.get(include = [\"embeddings\"])",
   "id": "611048c42c090e21",
   "outputs": [
    {
     "data": {
      "text/plain": [
       "{'ids': ['cf8fbc09-ca69-4457-ba87-4c368878824f',\n",
       "  'd1d893b1-ac68-4e1c-91ca-e46423a8bd7e',\n",
       "  '79b5a4b7-b9d4-4b54-bb34-bb903fce6743',\n",
       "  '9cdb8484-ebea-4b5c-931d-ef79624a2319',\n",
       "  '8a4d2f8c-db83-43fb-8c42-000545acb325',\n",
       "  '55605e66-4ee3-46f6-8ae2-9b8aacad730f',\n",
       "  '409abb40-7f49-4264-a430-10a2f0cb6f93',\n",
       "  '3a37fb7d-9bbc-410c-a7a3-acbcae811652',\n",
       "  'd79dd698-5bf4-4eb8-a547-42e464934603',\n",
       "  '6fbe5156-c879-4245-aa29-d75154095e99'],\n",
       " 'embeddings': array([[-0.05562957, -0.0203272 , -0.01269856, ...,  0.00051751,\n",
       "         -0.02111294, -0.01154474],\n",
       "        [-0.00921848, -0.02626629, -0.03133413, ...,  0.00726502,\n",
       "         -0.04161012, -0.00883735],\n",
       "        [-0.03262324,  0.01831091, -0.0045399 , ...,  0.00915938,\n",
       "         -0.02804055, -0.03489326],\n",
       "        ...,\n",
       "        [-0.03373932,  0.01749035, -0.00502294, ...,  0.00883841,\n",
       "         -0.02820449, -0.03299017],\n",
       "        [-0.0146971 , -0.01844227, -0.02503126, ...,  0.01035003,\n",
       "         -0.01682558, -0.01603061],\n",
       "        [-0.03304848, -0.03280932, -0.02324565, ..., -0.00354889,\n",
       "         -0.00507506, -0.00217535]], shape=(10, 768)),\n",
       " 'documents': None,\n",
       " 'uris': None,\n",
       " 'included': ['embeddings'],\n",
       " 'data': None,\n",
       " 'metadatas': None}"
      ]
     },
     "execution_count": 33,
     "metadata": {},
     "output_type": "execute_result"
    }
   ],
   "execution_count": 33
  },
  {
   "metadata": {
    "ExecuteTime": {
     "end_time": "2025-08-27T19:44:39.725920Z",
     "start_time": "2025-08-27T19:44:39.662259Z"
    }
   },
   "cell_type": "code",
   "source": [
    "vector_store.delete(ids = ['cf8fbc09-ca69-4457-ba87-4c368878824f',\n",
    "  'd1d893b1-ac68-4e1c-91ca-e46423a8bd7e',\n",
    "  '79b5a4b7-b9d4-4b54-bb34-bb903fce6743',\n",
    "  '9cdb8484-ebea-4b5c-931d-ef79624a2319',\n",
    "  '8a4d2f8c-db83-43fb-8c42-000545acb325'])"
   ],
   "id": "8eb83374531b884e",
   "outputs": [],
   "execution_count": 34
  },
  {
   "metadata": {
    "ExecuteTime": {
     "end_time": "2025-08-27T19:44:52.288193Z",
     "start_time": "2025-08-27T19:44:52.267263Z"
    }
   },
   "cell_type": "code",
   "source": "vector_store.get(include = [\"embeddings\"])",
   "id": "f4890f49d096ed9c",
   "outputs": [
    {
     "data": {
      "text/plain": [
       "{'ids': ['55605e66-4ee3-46f6-8ae2-9b8aacad730f',\n",
       "  '409abb40-7f49-4264-a430-10a2f0cb6f93',\n",
       "  '3a37fb7d-9bbc-410c-a7a3-acbcae811652',\n",
       "  'd79dd698-5bf4-4eb8-a547-42e464934603',\n",
       "  '6fbe5156-c879-4245-aa29-d75154095e99'],\n",
       " 'embeddings': array([[-0.03802421, -0.03025424, -0.00024509, ...,  0.01538167,\n",
       "         -0.02452593, -0.01501566],\n",
       "        [-0.00921848, -0.02626629, -0.03133413, ...,  0.00726502,\n",
       "         -0.04161012, -0.00883735],\n",
       "        [-0.03373932,  0.01749035, -0.00502294, ...,  0.00883841,\n",
       "         -0.02820449, -0.03299017],\n",
       "        [-0.0146971 , -0.01844227, -0.02503126, ...,  0.01035003,\n",
       "         -0.01682558, -0.01603061],\n",
       "        [-0.03304848, -0.03280932, -0.02324565, ..., -0.00354889,\n",
       "         -0.00507506, -0.00217535]], shape=(5, 768)),\n",
       " 'documents': None,\n",
       " 'uris': None,\n",
       " 'included': ['embeddings'],\n",
       " 'data': None,\n",
       " 'metadatas': None}"
      ]
     },
     "execution_count": 35,
     "metadata": {},
     "output_type": "execute_result"
    }
   ],
   "execution_count": 35
  },
  {
   "metadata": {},
   "cell_type": "code",
   "outputs": [],
   "execution_count": null,
   "source": "",
   "id": "a479a64c103ab9c5"
  }
 ],
 "metadata": {
  "kernelspec": {
   "display_name": "Python 3",
   "language": "python",
   "name": "python3"
  },
  "language_info": {
   "codemirror_mode": {
    "name": "ipython",
    "version": 2
   },
   "file_extension": ".py",
   "mimetype": "text/x-python",
   "name": "python",
   "nbconvert_exporter": "python",
   "pygments_lexer": "ipython2",
   "version": "2.7.6"
  }
 },
 "nbformat": 4,
 "nbformat_minor": 5
}
